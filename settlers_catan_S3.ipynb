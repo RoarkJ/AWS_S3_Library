{
 "cells": [
  {
   "cell_type": "code",
   "execution_count": 1,
   "id": "43ccf51a",
   "metadata": {},
   "outputs": [],
   "source": [
    "import json\n",
    "import logging\n",
    "import uuid\n",
    "import boto3\n",
    "from botocore.exceptions import ClientError"
   ]
  },
  {
   "cell_type": "code",
   "execution_count": 2,
   "id": "b3c70a6b",
   "metadata": {},
   "outputs": [],
   "source": [
    "logger = logging.getLogger(__name__)"
   ]
  },
  {
   "cell_type": "code",
   "execution_count": 3,
   "id": "7d6363aa",
   "metadata": {},
   "outputs": [],
   "source": [
    "s3_resource = boto3.resource('s3')"
   ]
  },
  {
   "cell_type": "code",
   "execution_count": 4,
   "id": "e366784d",
   "metadata": {},
   "outputs": [],
   "source": [
    "def get_s3(region=None):\n",
    "    global s3_resource \n",
    "    if not region or s3_resource.meta.client.meta.region_name == region:\n",
    "        return s3_resource\n",
    "    else:\n",
    "        return boto3.resource('s3', region_name=region)"
   ]
  },
  {
   "cell_type": "code",
   "execution_count": 5,
   "id": "33eb824a",
   "metadata": {},
   "outputs": [],
   "source": [
    "def create_bucket(name, region=None):\n",
    "    s3 = get_s3(region)\n",
    "\n",
    "    try:\n",
    "        if region:\n",
    "            bucket = s3.create_bucket(\n",
    "                Bucket=name,\n",
    "                CreateBucketConfiguration={\n",
    "                    'LocationConstraint': region\n",
    "                }\n",
    "            )\n",
    "        else:\n",
    "            bucket = s3.create_bucket(Bucket=name)\n",
    "\n",
    "        bucket.wait_until_exists()\n",
    "\n",
    "        logger.info(\"Created bucket '%s' in region=%s\", bucket.name,\n",
    "                    s3.meta.client.meta.region_name)\n",
    "    except ClientError as error:\n",
    "        logger.exception(\"Could't create bucket name '%s' in region='%s'\",\n",
    "                        name, region)\n",
    "        if error.response['Error']['Code'] == 'IllegalLocationConstarintException':\n",
    "            logger.error(\"When the session Region is anything other than us-east-1, \"\n",
    "                         \"you must specify a LocationConstraint that matches the \"\n",
    "                         \"session Region. The current session Region is %s and the \"\n",
    "                         \"LocationConstraint Region is %s.\",\n",
    "                         s3.meta.client.meta.region_name, region)\n",
    "        raise error\n",
    "    else:\n",
    "        return bucket"
   ]
  },
  {
   "cell_type": "code",
   "execution_count": 6,
   "id": "54c4c389",
   "metadata": {},
   "outputs": [
    {
     "data": {
      "text/plain": [
       "s3.Bucket(name='settlers-of-catan')"
      ]
     },
     "execution_count": 6,
     "metadata": {},
     "output_type": "execute_result"
    }
   ],
   "source": [
    "create_bucket('settlers-of-catan', region='us-west-2')"
   ]
  },
  {
   "cell_type": "code",
   "execution_count": 7,
   "id": "790b17e2",
   "metadata": {},
   "outputs": [],
   "source": [
    "def bucket_exists(bucket_name):\n",
    "    s3 = get_s3()\n",
    "    try:\n",
    "        s3.meta.client.head_bucket(Bucket=bucket_name)\n",
    "        logger.info(\"Bucket %s exists.\", bucket_name)\n",
    "        exists = True\n",
    "    except ClientError:\n",
    "        logger.warning(\"Bucket %s doesn't exist or you don't have access to it.\",\n",
    "                       bucket_name)\n",
    "        exists = False\n",
    "    return exists"
   ]
  },
  {
   "cell_type": "code",
   "execution_count": 8,
   "id": "55eb61b3",
   "metadata": {},
   "outputs": [
    {
     "data": {
      "text/plain": [
       "True"
      ]
     },
     "execution_count": 8,
     "metadata": {},
     "output_type": "execute_result"
    }
   ],
   "source": [
    "bucket_exists('settlers-of-catan')"
   ]
  },
  {
   "cell_type": "code",
   "execution_count": 9,
   "id": "eded26f1",
   "metadata": {},
   "outputs": [],
   "source": [
    "import os"
   ]
  },
  {
   "cell_type": "code",
   "execution_count": 10,
   "id": "321e1e93",
   "metadata": {},
   "outputs": [],
   "source": [
    "def upload_file(file_name, bucket, object_name=None):\n",
    "    # If S3 object_name was not specified, use file_name\n",
    "    if object_name is None:\n",
    "        object_name=os.path.basename(file_name)\n",
    "    \n",
    "    # Upload the file\n",
    "    s3_client = boto3.client('s3')\n",
    "    try:\n",
    "        response = s3_client.upload_file(file_name, bucket, object_name)\n",
    "    except ClientError as e:\n",
    "        logging.error(e)\n",
    "        return False\n",
    "    return True"
   ]
  },
  {
   "cell_type": "code",
   "execution_count": 11,
   "id": "1a36e383",
   "metadata": {},
   "outputs": [],
   "source": [
    "s3 = boto3.client('s3')"
   ]
  },
  {
   "cell_type": "code",
   "execution_count": 13,
   "id": "9e924e10",
   "metadata": {},
   "outputs": [],
   "source": [
    "with open('employee.csv', 'rb') as f:\n",
    "    s3.upload_fileobj(f, 'settlers-of-catan', 'employee.csv')"
   ]
  },
  {
   "cell_type": "code",
   "execution_count": 24,
   "id": "82f37681",
   "metadata": {},
   "outputs": [],
   "source": []
  }
 ],
 "metadata": {
  "kernelspec": {
   "display_name": "venv_aws",
   "language": "python",
   "name": "venv_aws"
  },
  "language_info": {
   "codemirror_mode": {
    "name": "ipython",
    "version": 3
   },
   "file_extension": ".py",
   "mimetype": "text/x-python",
   "name": "python",
   "nbconvert_exporter": "python",
   "pygments_lexer": "ipython3",
   "version": "3.8.9"
  }
 },
 "nbformat": 4,
 "nbformat_minor": 5
}
