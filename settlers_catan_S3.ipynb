{
 "cells": [
  {
   "cell_type": "code",
   "execution_count": 1,
   "id": "43ccf51a",
   "metadata": {},
   "outputs": [],
   "source": [
    "import json\n",
    "import logging\n",
    "import uuid\n",
    "import boto3\n",
    "from botocore.exceptions import ClientError"
   ]
  },
  {
   "cell_type": "code",
   "execution_count": 2,
   "id": "b3c70a6b",
   "metadata": {},
   "outputs": [],
   "source": [
    "logger = logging.getLogger(__name__)"
   ]
  },
  {
   "cell_type": "code",
   "execution_count": 3,
   "id": "7d6363aa",
   "metadata": {},
   "outputs": [],
   "source": [
    "s3_resource = boto3.resource('s3')"
   ]
  },
  {
   "cell_type": "code",
   "execution_count": 4,
   "id": "e366784d",
   "metadata": {},
   "outputs": [],
   "source": [
    "def get_s3(region=None):\n",
    "    global s3_resource \n",
    "    if not region or s3_resource.meta.client.meta.region_name == region:\n",
    "        return s3_resource\n",
    "    else:\n",
    "        return boto3.resource('s3', region_name=region)"
   ]
  },
  {
   "cell_type": "code",
   "execution_count": 5,
   "id": "33eb824a",
   "metadata": {},
   "outputs": [],
   "source": [
    "def create_bucket(name, region=None):\n",
    "    s3 = get_s3(region)\n",
    "\n",
    "    try:\n",
    "        if region:\n",
    "            bucket = s3.create_bucket(\n",
    "                Bucket=name,\n",
    "                CreateBucketConfiguration={\n",
    "                    'LocationConstraint': region\n",
    "                }\n",
    "            )\n",
    "        else:\n",
    "            bucket = s3.create_bucket(Bucket=name)\n",
    "\n",
    "        bucket.wait_until_exists()\n",
    "\n",
    "        logger.info(\"Created bucket '%s' in region=%s\", bucket.name,\n",
    "                    s3.meta.client.meta.region_name)\n",
    "    except ClientError as error:\n",
    "        logger.exception(\"Could't create bucket name '%s' in region='%s'\",\n",
    "                        name, region)\n",
    "        if error.response['Error']['Code'] == 'IllegalLocationConstarintException':\n",
    "            logger.error(\"When the session Region is anything other than us-east-1, \"\n",
    "                         \"you must specify a LocationConstraint that matches the \"\n",
    "                         \"session Region. The current session Region is %s and the \"\n",
    "                         \"LocationConstraint Region is %s.\",\n",
    "                         s3.meta.client.meta.region_name, region)\n",
    "        raise error\n",
    "    else:\n",
    "        return bucket"
   ]
  },
  {
   "cell_type": "code",
   "execution_count": 6,
   "id": "54c4c389",
   "metadata": {},
   "outputs": [
    {
     "data": {
      "text/plain": [
       "s3.Bucket(name='settlers-of-catan-data-2')"
      ]
     },
     "execution_count": 6,
     "metadata": {},
     "output_type": "execute_result"
    }
   ],
   "source": [
    "create_bucket('settlers-of-catan-data-2', region='us-west-2')"
   ]
  },
  {
   "cell_type": "code",
   "execution_count": 7,
   "id": "790b17e2",
   "metadata": {},
   "outputs": [],
   "source": [
    "def bucket_exists(bucket_name):\n",
    "    s3 = get_s3()\n",
    "    try:\n",
    "        s3.meta.client.head_bucket(Bucket=bucket_name)\n",
    "        logger.info(\"Bucket %s exists.\", bucket_name)\n",
    "        exists = True\n",
    "    except ClientError:\n",
    "        logger.warning(\"Bucket %s doesn't exist or you don't have access to it.\",\n",
    "                       bucket_name)\n",
    "        exists = False\n",
    "    return exists"
   ]
  },
  {
   "cell_type": "code",
   "execution_count": 8,
   "id": "55eb61b3",
   "metadata": {},
   "outputs": [
    {
     "data": {
      "text/plain": [
       "True"
      ]
     },
     "execution_count": 8,
     "metadata": {},
     "output_type": "execute_result"
    }
   ],
   "source": [
    "bucket_exists('settlers-of-catan-data-2')"
   ]
  },
  {
   "cell_type": "code",
   "execution_count": 9,
   "id": "eded26f1",
   "metadata": {},
   "outputs": [],
   "source": [
    "import os"
   ]
  },
  {
   "cell_type": "code",
   "execution_count": 10,
   "id": "321e1e93",
   "metadata": {},
   "outputs": [],
   "source": [
    "# Not using this in upload cell. This is just for context reference.\n",
    "def upload_file(file_name, bucket, object_name=None):\n",
    "    # If S3 object_name was not specified, use file_name\n",
    "    if object_name is None:\n",
    "        object_name=os.path.basename(file_name)\n",
    "    \n",
    "    # Upload the file\n",
    "    s3_client = boto3.client('s3')\n",
    "    try:\n",
    "        response = s3_client.upload_file(file_name, bucket, object_name)\n",
    "    except ClientError as e:\n",
    "        logging.error(e)\n",
    "        return False\n",
    "    return True"
   ]
  },
  {
   "cell_type": "code",
   "execution_count": 11,
   "id": "1a36e383",
   "metadata": {},
   "outputs": [],
   "source": [
    "s3 = boto3.client('s3')"
   ]
  },
  {
   "cell_type": "code",
   "execution_count": 12,
   "id": "9e924e10",
   "metadata": {},
   "outputs": [],
   "source": [
    "# Notice we are opening file in binary mode. must be used with 'fileobj'\n",
    "with open('employee.csv', 'rb') as f:\n",
    "    s3.upload_fileobj(f, 'settlers-of-catan-data-2', 'employee.csv')"
   ]
  },
  {
   "cell_type": "code",
   "execution_count": 13,
   "id": "fb1c29cf",
   "metadata": {},
   "outputs": [],
   "source": [
    "# We are creating an external table that we will generate a DDL from for use with the query.\n",
    "query = '''CREATE EXTERNAL TABLE settlers_of_catan_data_3(col0 bigint, \n",
    "    col1 string, col2 string, col3 string, col4 string, col5 string, col6 string, \n",
    "    col7 string, col8 string, col9 string, col10 string, col11 string, col12 string) \n",
    "    ROW FORMAT DELIMITED FIELDS TERMINATED BY ',' STORED AS INPUTFORMAT\n",
    "    'org.apache.hadoop.mapred.TextInputFormat' \n",
    "    OUTPUTFORMAT 'org.apache.hadoop.hive.ql.io.HiveIgnoreKeyTextOutputFormat'\n",
    "    LOCATION 's3://settlers-of-catan-data-2/';'''\n"
   ]
  },
  {
   "cell_type": "code",
   "execution_count": 14,
   "id": "82f37681",
   "metadata": {},
   "outputs": [
    {
     "data": {
      "text/plain": [
       "{'QueryExecutionId': 'b4aa2f27-147f-48fa-a3f8-03f19abaac0e',\n",
       " 'ResponseMetadata': {'RequestId': '333a2bd0-b16e-4c34-aab5-4c23c2ce7b71',\n",
       "  'HTTPStatusCode': 200,\n",
       "  'HTTPHeaders': {'content-type': 'application/x-amz-json-1.1',\n",
       "   'date': 'Thu, 04 Nov 2021 19:51:21 GMT',\n",
       "   'x-amzn-requestid': '333a2bd0-b16e-4c34-aab5-4c23c2ce7b71',\n",
       "   'content-length': '59',\n",
       "   'connection': 'keep-alive'},\n",
       "  'RetryAttempts': 0}}"
      ]
     },
     "execution_count": 14,
     "metadata": {},
     "output_type": "execute_result"
    }
   ],
   "source": [
    "# Finally, we are getting to use Athena to query the data and return results to a separate S3 bucket!!!\n",
    "import boto3\n",
    "ath = boto3.client('athena')\n",
    "\n",
    "query = 'SELECT * FROM \"catan_data\".\"settlers_of_catan_data_3\" limit 10;'\n",
    "\n",
    "ath.start_query_execution(\n",
    "    QueryString= query,\n",
    "\n",
    "    QueryExecutionContext={\n",
    "            'Database': 'catan_data',\n",
    "            'Catalog': '982765153403'\n",
    "        },\n",
    "\n",
    "    ResultConfiguration={'OutputLocation': 's3://settlers-of-catan-qury-results-2'},\n",
    "    WorkGroup='primary'\n",
    "  \n",
    ")"
   ]
  },
  {
   "cell_type": "code",
   "execution_count": null,
   "id": "21304b47",
   "metadata": {},
   "outputs": [],
   "source": []
  },
  {
   "cell_type": "code",
   "execution_count": null,
   "id": "18db0fec",
   "metadata": {},
   "outputs": [],
   "source": []
  }
 ],
 "metadata": {
  "kernelspec": {
   "display_name": "venv_aws",
   "language": "python",
   "name": "venv_aws"
  },
  "language_info": {
   "codemirror_mode": {
    "name": "ipython",
    "version": 3
   },
   "file_extension": ".py",
   "mimetype": "text/x-python",
   "name": "python",
   "nbconvert_exporter": "python",
   "pygments_lexer": "ipython3",
   "version": "3.8.9"
  }
 },
 "nbformat": 4,
 "nbformat_minor": 5
}
